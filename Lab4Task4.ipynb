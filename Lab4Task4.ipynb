{
 "cells": [
  {
   "cell_type": "code",
   "execution_count": 1,
   "metadata": {},
   "outputs": [],
   "source": [
    "import os\n",
    "\n",
    "if not os.path.exists('thinkdsp.py'):\n",
    "    !wget https://github.com/DavronbekSattorov/ThinkDSP/blob/master/code/thinkdsp.py"
   ]
  },
  {
   "cell_type": "code",
   "execution_count": 2,
   "metadata": {},
   "outputs": [],
   "source": [
    "import numpy as np\n",
    "import matplotlib.pyplot as plt\n",
    "\n",
    "from thinkdsp import decorate"
   ]
  },
  {
   "cell_type": "code",
   "execution_count": 3,
   "metadata": {},
   "outputs": [
    {
     "data": {
      "text/plain": [
       "array([[0.24915444, 0.56129215, 0.40702762, 0.00711468, 0.16613757],\n",
       "       [0.74949835,        nan,        nan,        nan,        nan],\n",
       "       [0.04582581,        nan,        nan,        nan,        nan],\n",
       "       [0.59118907,        nan,        nan,        nan,        nan],\n",
       "       [0.56206022,        nan,        nan,        nan,        nan],\n",
       "       [0.34006661,        nan,        nan,        nan,        nan]])"
      ]
     },
     "execution_count": 3,
     "metadata": {},
     "output_type": "execute_result"
    }
   ],
   "source": [
    "nrows = 100\n",
    "ncols = 5\n",
    "\n",
    "array = np.empty((nrows, ncols))\n",
    "array.fill(np.nan)\n",
    "array[0, :] = np.random.random(ncols)\n",
    "array[:, 0] = np.random.random(nrows)\n",
    "array[0:6]"
   ]
  },
  {
   "cell_type": "code",
   "execution_count": 4,
   "metadata": {},
   "outputs": [
    {
     "data": {
      "text/plain": [
       "array([1, 2, 1, 2, 1, 3, 2, 3, 2, 3, 2, 0, 2, 4, 1, 1, 1, 1, 1, 1, 2, 1,\n",
       "       1, 2, 1, 1, 1, 1, 2, 2, 1, 1, 1, 1, 2, 1, 2, 1, 3, 1, 1, 1, 1, 1,\n",
       "       1, 2, 2, 2, 1, 4, 1, 3, 3, 1, 2, 2, 2, 1, 1, 2, 1, 1, 0, 1, 1, 1,\n",
       "       1, 1, 2, 2, 0, 4, 2, 3, 3, 2, 1, 3, 1, 2, 1, 1, 1, 1, 1, 2, 2, 3,\n",
       "       1, 3, 1, 3, 2, 1, 1, 0, 3, 2, 1, 2])"
      ]
     },
     "execution_count": 4,
     "metadata": {},
     "output_type": "execute_result"
    }
   ],
   "source": [
    "p = 0.5\n",
    "n = nrows\n",
    "cols = np.random.geometric(p, n)\n",
    "cols[cols >= ncols] = 0\n",
    "cols"
   ]
  },
  {
   "cell_type": "code",
   "execution_count": 5,
   "metadata": {},
   "outputs": [
    {
     "data": {
      "text/plain": [
       "array([63, 14, 11, 99, 71, 39, 59, 29, 85, 52, 78, 88, 89, 56, 31, 24, 28,\n",
       "       42, 16, 60,  8, 39, 55, 37, 48, 30, 23,  4, 88, 25, 43, 40, 99, 70,\n",
       "       68, 18, 95, 87, 21, 19, 58, 25, 52, 57, 17, 38, 90, 13, 56, 55, 95,\n",
       "       50, 68, 40, 32, 90, 60, 82,  2, 23,  6, 90, 69, 57,  6, 36, 75, 53,\n",
       "       53, 50, 38, 64, 23, 76, 31, 49, 56, 11, 32, 18,  6, 19, 21, 49, 55,\n",
       "       79, 36, 13, 74, 67,  6, 97, 92, 10, 85, 62, 77, 65, 21, 91])"
      ]
     },
     "execution_count": 5,
     "metadata": {},
     "output_type": "execute_result"
    }
   ],
   "source": [
    "rows = np.random.randint(nrows, size=n)\n",
    "rows"
   ]
  },
  {
   "cell_type": "code",
   "execution_count": 6,
   "metadata": {},
   "outputs": [
    {
     "data": {
      "text/plain": [
       "array([[0.24915444, 0.56129215, 0.40702762, 0.00711468, 0.16613757],\n",
       "       [0.74949835,        nan,        nan,        nan,        nan],\n",
       "       [0.04582581, 0.11383711,        nan,        nan,        nan],\n",
       "       [0.59118907,        nan,        nan,        nan,        nan],\n",
       "       [0.56206022, 0.42971788,        nan,        nan,        nan],\n",
       "       [0.34006661,        nan,        nan,        nan,        nan]])"
      ]
     },
     "execution_count": 6,
     "metadata": {},
     "output_type": "execute_result"
    }
   ],
   "source": [
    "array[rows, cols] = np.random.random(n)\n",
    "array[0:6]"
   ]
  },
  {
   "cell_type": "code",
   "execution_count": 8,
   "metadata": {},
   "outputs": [
    {
     "data": {
      "text/html": [
       "<div>\n",
       "<style scoped>\n",
       "    .dataframe tbody tr th:only-of-type {\n",
       "        vertical-align: middle;\n",
       "    }\n",
       "\n",
       "    .dataframe tbody tr th {\n",
       "        vertical-align: top;\n",
       "    }\n",
       "\n",
       "    .dataframe thead th {\n",
       "        text-align: right;\n",
       "    }\n",
       "</style>\n",
       "<table border=\"1\" class=\"dataframe\">\n",
       "  <thead>\n",
       "    <tr style=\"text-align: right;\">\n",
       "      <th></th>\n",
       "      <th>0</th>\n",
       "      <th>1</th>\n",
       "      <th>2</th>\n",
       "      <th>3</th>\n",
       "      <th>4</th>\n",
       "    </tr>\n",
       "  </thead>\n",
       "  <tbody>\n",
       "    <tr>\n",
       "      <th>0</th>\n",
       "      <td>0.249154</td>\n",
       "      <td>0.561292</td>\n",
       "      <td>0.407028</td>\n",
       "      <td>0.007115</td>\n",
       "      <td>0.166138</td>\n",
       "    </tr>\n",
       "    <tr>\n",
       "      <th>1</th>\n",
       "      <td>0.749498</td>\n",
       "      <td>NaN</td>\n",
       "      <td>NaN</td>\n",
       "      <td>NaN</td>\n",
       "      <td>NaN</td>\n",
       "    </tr>\n",
       "    <tr>\n",
       "      <th>2</th>\n",
       "      <td>0.045826</td>\n",
       "      <td>0.113837</td>\n",
       "      <td>NaN</td>\n",
       "      <td>NaN</td>\n",
       "      <td>NaN</td>\n",
       "    </tr>\n",
       "    <tr>\n",
       "      <th>3</th>\n",
       "      <td>0.591189</td>\n",
       "      <td>NaN</td>\n",
       "      <td>NaN</td>\n",
       "      <td>NaN</td>\n",
       "      <td>NaN</td>\n",
       "    </tr>\n",
       "    <tr>\n",
       "      <th>4</th>\n",
       "      <td>0.562060</td>\n",
       "      <td>0.429718</td>\n",
       "      <td>NaN</td>\n",
       "      <td>NaN</td>\n",
       "      <td>NaN</td>\n",
       "    </tr>\n",
       "  </tbody>\n",
       "</table>\n",
       "</div>"
      ],
      "text/plain": [
       "          0         1         2         3         4\n",
       "0  0.249154  0.561292  0.407028  0.007115  0.166138\n",
       "1  0.749498       NaN       NaN       NaN       NaN\n",
       "2  0.045826  0.113837       NaN       NaN       NaN\n",
       "3  0.591189       NaN       NaN       NaN       NaN\n",
       "4  0.562060  0.429718       NaN       NaN       NaN"
      ]
     },
     "execution_count": 8,
     "metadata": {},
     "output_type": "execute_result"
    }
   ],
   "source": [
    "import pandas as pd\n",
    "\n",
    "df = pd.DataFrame(array)\n",
    "df.head()"
   ]
  },
  {
   "cell_type": "code",
   "execution_count": 9,
   "metadata": {},
   "outputs": [
    {
     "data": {
      "text/html": [
       "<div>\n",
       "<style scoped>\n",
       "    .dataframe tbody tr th:only-of-type {\n",
       "        vertical-align: middle;\n",
       "    }\n",
       "\n",
       "    .dataframe tbody tr th {\n",
       "        vertical-align: top;\n",
       "    }\n",
       "\n",
       "    .dataframe thead th {\n",
       "        text-align: right;\n",
       "    }\n",
       "</style>\n",
       "<table border=\"1\" class=\"dataframe\">\n",
       "  <thead>\n",
       "    <tr style=\"text-align: right;\">\n",
       "      <th></th>\n",
       "      <th>0</th>\n",
       "      <th>1</th>\n",
       "      <th>2</th>\n",
       "      <th>3</th>\n",
       "      <th>4</th>\n",
       "    </tr>\n",
       "  </thead>\n",
       "  <tbody>\n",
       "    <tr>\n",
       "      <th>0</th>\n",
       "      <td>0.249154</td>\n",
       "      <td>0.561292</td>\n",
       "      <td>0.407028</td>\n",
       "      <td>0.007115</td>\n",
       "      <td>0.166138</td>\n",
       "    </tr>\n",
       "    <tr>\n",
       "      <th>1</th>\n",
       "      <td>0.749498</td>\n",
       "      <td>0.561292</td>\n",
       "      <td>0.407028</td>\n",
       "      <td>0.007115</td>\n",
       "      <td>0.166138</td>\n",
       "    </tr>\n",
       "    <tr>\n",
       "      <th>2</th>\n",
       "      <td>0.045826</td>\n",
       "      <td>0.113837</td>\n",
       "      <td>0.407028</td>\n",
       "      <td>0.007115</td>\n",
       "      <td>0.166138</td>\n",
       "    </tr>\n",
       "    <tr>\n",
       "      <th>3</th>\n",
       "      <td>0.591189</td>\n",
       "      <td>0.113837</td>\n",
       "      <td>0.407028</td>\n",
       "      <td>0.007115</td>\n",
       "      <td>0.166138</td>\n",
       "    </tr>\n",
       "    <tr>\n",
       "      <th>4</th>\n",
       "      <td>0.562060</td>\n",
       "      <td>0.429718</td>\n",
       "      <td>0.407028</td>\n",
       "      <td>0.007115</td>\n",
       "      <td>0.166138</td>\n",
       "    </tr>\n",
       "  </tbody>\n",
       "</table>\n",
       "</div>"
      ],
      "text/plain": [
       "          0         1         2         3         4\n",
       "0  0.249154  0.561292  0.407028  0.007115  0.166138\n",
       "1  0.749498  0.561292  0.407028  0.007115  0.166138\n",
       "2  0.045826  0.113837  0.407028  0.007115  0.166138\n",
       "3  0.591189  0.113837  0.407028  0.007115  0.166138\n",
       "4  0.562060  0.429718  0.407028  0.007115  0.166138"
      ]
     },
     "execution_count": 9,
     "metadata": {},
     "output_type": "execute_result"
    }
   ],
   "source": [
    "filled = df.fillna(method='ffill', axis=0)\n",
    "filled.head()"
   ]
  },
  {
   "cell_type": "code",
   "execution_count": 10,
   "metadata": {},
   "outputs": [
    {
     "data": {
      "text/plain": [
       "0    1.390726\n",
       "1    1.891070\n",
       "2    0.739943\n",
       "3    1.285306\n",
       "4    1.572058\n",
       "dtype: float64"
      ]
     },
     "execution_count": 10,
     "metadata": {},
     "output_type": "execute_result"
    }
   ],
   "source": [
    "total = filled.sum(axis=1)\n",
    "total.head()"
   ]
  },
  {
   "cell_type": "code",
   "execution_count": 12,
   "metadata": {},
   "outputs": [
    {
     "data": {
      "image/png": "[encoded data removed]",
      "text/plain": [
       "<Figure size 432x288 with 1 Axes>"
      ]
     },
     "metadata": {
      "needs_background": "light"
     },
     "output_type": "display_data"
    }
   ],
   "source": [
    "from thinkdsp import Wave\n",
    "\n",
    "wave = Wave(total.values)\n",
    "wave.plot()"
   ]
  },
  {
   "cell_type": "code",
   "execution_count": 13,
   "metadata": {},
   "outputs": [],
   "source": [
    "def voss(nrows, ncols=16):\n",
    "    \"\"\"Generates pink noise using the Voss-McCartney algorithm.\n",
    "    \n",
    "    nrows: number of values to generate\n",
    "    rcols: number of random sources to add\n",
    "    \n",
    "    returns: NumPy array\n",
    "    \"\"\"\n",
    "    array = np.empty((nrows, ncols))\n",
    "    array.fill(np.nan)\n",
    "    array[0, :] = np.random.random(ncols)\n",
    "    array[:, 0] = np.random.random(nrows)\n",
    "    \n",
    "    # the total number of changes is nrows\n",
    "    n = nrows\n",
    "    cols = np.random.geometric(0.5, n)\n",
    "    cols[cols >= ncols] = 0\n",
    "    rows = np.random.randint(nrows, size=n)\n",
    "    array[rows, cols] = np.random.random(n)\n",
    "\n",
    "    df = pd.DataFrame(array)\n",
    "    df.fillna(method='ffill', axis=0, inplace=True)\n",
    "    total = df.sum(axis=1)\n",
    "\n",
    "    return total.values"
   ]
  },
  {
   "cell_type": "code",
   "execution_count": 14,
   "metadata": {},
   "outputs": [
    {
     "data": {
      "text/plain": [
       "array([6.93690795, 6.61911999, 6.50387219, ..., 9.00384912, 8.68359171,\n",
       "       8.37511933])"
      ]
     },
     "execution_count": 14,
     "metadata": {},
     "output_type": "execute_result"
    }
   ],
   "source": [
    "ys = voss(11025)\n",
    "ys\n"
   ]
  },
  {
   "cell_type": "code",
   "execution_count": 15,
   "metadata": {},
   "outputs": [],
   "source": [
    "wave = Wave(ys)\n",
    "wave.unbias()\n",
    "wave.normalize()"
   ]
  },
  {
   "cell_type": "code",
   "execution_count": 16,
   "metadata": {},
   "outputs": [
    {
     "data": {
      "image/png": "[encoded data removed]",
      "text/plain": [
       "<Figure size 432x288 with 1 Axes>"
      ]
     },
     "metadata": {
      "needs_background": "light"
     },
     "output_type": "display_data"
    }
   ],
   "source": [
    "wave.plot()"
   ]
  },
  {
   "cell_type": "code",
   "execution_count": 17,
   "metadata": {},
   "outputs": [
    {
     "data": {
      "text/html": [
       "\n",
       "                <audio  controls=\"controls\" >\n",
       "                    <source src=\"data:audio/wav;base64,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\" type=\"audio/wav\" />\n",
       "                    Your browser does not support the audio element.\n",
       "                </audio>\n",
       "              "
      ],
      "text/plain": [
       "<IPython.lib.display.Audio object>"
      ]
     },
     "execution_count": 17,
     "metadata": {},
     "output_type": "execute_result"
    }
   ],
   "source": [
    "wave.make_audio()"
   ]
  },
  {
   "cell_type": "code",
   "execution_count": 19,
   "metadata": {},
   "outputs": [
    {
     "data": {
      "image/png": "[encoded data removed]",
      "text/plain": [
       "<Figure size 432x288 with 1 Axes>"
      ]
     },
     "metadata": {
      "needs_background": "light"
     },
     "output_type": "display_data"
    }
   ],
   "source": [
    "loglog = dict(xscale='log', yscale='log')\n",
    "\n",
    "spectrum = wave.make_spectrum()\n",
    "spectrum.hs[0] = 0\n",
    "spectrum.plot_power()\n",
    "decorate(xlabel='Frequency (Hz)',\n",
    "         **loglog)"
   ]
  },
  {
   "cell_type": "code",
   "execution_count": 20,
   "metadata": {},
   "outputs": [
    {
     "data": {
      "text/plain": [
       "-1.0071137966084964"
      ]
     },
     "execution_count": 20,
     "metadata": {},
     "output_type": "execute_result"
    }
   ],
   "source": [
    "spectrum.estimate_slope().slope"
   ]
  },
  {
   "cell_type": "code",
   "execution_count": 21,
   "metadata": {},
   "outputs": [
    {
     "data": {
      "text/plain": [
       "6553600"
      ]
     },
     "execution_count": 21,
     "metadata": {},
     "output_type": "execute_result"
    }
   ],
   "source": [
    "seg_length = 64 * 1024\n",
    "iters = 100\n",
    "wave = Wave(voss(seg_length * iters))\n",
    "len(wave)"
   ]
  },
  {
   "cell_type": "code",
   "execution_count": 23,
   "metadata": {},
   "outputs": [
    {
     "data": {
      "text/plain": [
       "32769"
      ]
     },
     "execution_count": 23,
     "metadata": {},
     "output_type": "execute_result"
    }
   ],
   "source": [
    "from thinkdsp import Spectrum\n",
    "\n",
    "def bartlett_method(wave, seg_length=512, win_flag=True):\n",
    "    \"\"\"Estimates the power spectrum of a noise wave.\n",
    "    \n",
    "    wave: Wave\n",
    "    seg_length: segment length\n",
    "    \"\"\"\n",
    "    # make a spectrogram and extract the spectrums\n",
    "    spectro = wave.make_spectrogram(seg_length, win_flag)\n",
    "    spectrums = spectro.spec_map.values()\n",
    "    \n",
    "    # extract the power array from each spectrum\n",
    "    psds = [spectrum.power for spectrum in spectrums]\n",
    "    \n",
    "    # compute the root mean power (which is like an amplitude)\n",
    "    hs = np.sqrt(sum(psds) / len(psds))\n",
    "    fs = next(iter(spectrums)).fs\n",
    "    \n",
    "    # make a Spectrum with the mean amplitudes\n",
    "    spectrum = Spectrum(hs, fs, wave.framerate)\n",
    "    return spectrum\n",
    "\n",
    "spectrum = bartlett_method(wave, seg_length=seg_length, win_flag=False)\n",
    "spectrum.hs[0] = 0\n",
    "len(spectrum)"
   ]
  },
  {
   "cell_type": "code",
   "execution_count": 24,
   "metadata": {},
   "outputs": [
    {
     "data": {
      "image/png": "[encoded data removed]",
      "text/plain": [
       "<Figure size 432x288 with 1 Axes>"
      ]
     },
     "metadata": {
      "needs_background": "light"
     },
     "output_type": "display_data"
    }
   ],
   "source": [
    "spectrum.plot_power()\n",
    "decorate(xlabel='Frequency (Hz)',\n",
    "         **loglog)"
   ]
  },
  {
   "cell_type": "code",
   "execution_count": 25,
   "metadata": {},
   "outputs": [
    {
     "data": {
      "text/plain": [
       "-1.0018896035260445"
      ]
     },
     "execution_count": 25,
     "metadata": {},
     "output_type": "execute_result"
    }
   ],
   "source": [
    "spectrum.estimate_slope().slope"
   ]
  },
  {
   "cell_type": "code",
   "execution_count": null,
   "metadata": {},
   "outputs": [],
   "source": []
  }
 ],
 "metadata": {
  "kernelspec": {
   "display_name": "Python 3",
   "language": "python",
   "name": "python3"
  },
  "language_info": {
   "codemirror_mode": {
    "name": "ipython",
    "version": 3
   },
   "file_extension": ".py",
   "mimetype": "text/x-python",
   "name": "python",
   "nbconvert_exporter": "python",
   "pygments_lexer": "ipython3",
   "version": "3.7.6"
  }
 },
 "nbformat": 4,
 "nbformat_minor": 4
}
